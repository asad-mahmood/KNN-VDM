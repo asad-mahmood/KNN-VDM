{
  "nbformat": 4,
  "nbformat_minor": 0,
  "metadata": {
    "kernelspec": {
      "display_name": "Python 3",
      "language": "python",
      "name": "python3"
    },
    "language_info": {
      "codemirror_mode": {
        "name": "ipython",
        "version": 3
      },
      "file_extension": ".py",
      "mimetype": "text/x-python",
      "name": "python",
      "nbconvert_exporter": "python",
      "pygments_lexer": "ipython3",
      "version": "3.7.3"
    },
    "colab": {
      "name": "KNN, VDM.ipynb",
      "provenance": []
    }
  },
  "cells": [
    {
      "cell_type": "markdown",
      "metadata": {
        "id": "hyk9VSs26LZs",
        "colab_type": "text"
      },
      "source": [
        "# KNN and VDM\n",
        "\n",
        "## Author: Asad Mahmood"
      ]
    },
    {
      "cell_type": "markdown",
      "metadata": {
        "id": "ol-NTgvc6LZv",
        "colab_type": "text"
      },
      "source": [
        " "
      ]
    },
    {
      "cell_type": "markdown",
      "metadata": {
        "id": "nd1zt0jW6LZx",
        "colab_type": "text"
      },
      "source": [
        "<a id='toc'> </a>\n",
        "## Table of Contents"
      ]
    },
    {
      "cell_type": "markdown",
      "metadata": {
        "id": "ScKfi-4W6LZz",
        "colab_type": "text"
      },
      "source": [
        "1. [**Importing Train & Test Dataset**](#Dataset)<br/>\n",
        " <br/>\n",
        "2. [**Problem 1**](#Problem1)<br/>\n",
        " + [Part 1](#PPart1)<br/>\n",
        " + [Part 2](#PPart2)<br/>\n",
        " <br/>\n",
        "3. [**Problem 2**](#Problem2)<br/>\n",
        " + [Part 1](#Part1)<br/>\n",
        " + [Part 2](#Part2)<br/>\n",
        " + [Part 3](#Part3)<br/>\n",
        " + [Part 4](#Part4)<br/>\n",
        " + [Part 5](#Part5)<br/>"
      ]
    },
    {
      "cell_type": "markdown",
      "metadata": {
        "id": "J8NLU9xH6LZ1",
        "colab_type": "text"
      },
      "source": [
        "<a id='Dataset'> </a>\n",
        "## Importing Train & Test Dataset"
      ]
    },
    {
      "cell_type": "code",
      "metadata": {
        "id": "cIPq5E1d6LZ3",
        "colab_type": "code",
        "colab": {}
      },
      "source": [
        "# Importing Libraries\n",
        "import numpy as np\n",
        "from scipy.spatial import Voronoi, voronoi_plot_2d\n",
        "import matplotlib.pyplot as plt\n",
        "import pandas as pd\n",
        "import scipy\n",
        "import math\n",
        "import statistics"
      ],
      "execution_count": null,
      "outputs": []
    },
    {
      "cell_type": "markdown",
      "metadata": {
        "id": "j3ZK4Mqa6LaB",
        "colab_type": "text"
      },
      "source": [
        "Importing libraries that are gonna be used to implement this algorithim"
      ]
    },
    {
      "cell_type": "markdown",
      "metadata": {
        "id": "2LIKzXUm6LaD",
        "colab_type": "text"
      },
      "source": [
        "### Training Dataset"
      ]
    },
    {
      "cell_type": "code",
      "metadata": {
        "id": "LrZonfTK6LaF",
        "colab_type": "code",
        "colab": {}
      },
      "source": [
        "# Importing the training dataset\n",
        "trainDataset = pd.read_csv('healthcareTrain.csv')"
      ],
      "execution_count": null,
      "outputs": []
    },
    {
      "cell_type": "markdown",
      "metadata": {
        "id": "648_D38i6LaM",
        "colab_type": "text"
      },
      "source": [
        "The list of features extracted for **training set:**<br/>\n",
        "+ \"pre-rx-cost\"\n",
        "+ \"numofgen\"\n",
        "+ \"numofbrand\"\n",
        "+ \"generic-cost\"\n",
        "+ \"adjust-total-30d\"\n",
        "+ \"num-er\""
      ]
    },
    {
      "cell_type": "code",
      "metadata": {
        "id": "cVIXyybP6LaN",
        "colab_type": "code",
        "colab": {}
      },
      "source": [
        "#Feature Extraction\n",
        "X = trainDataset[[\"pre_rx_cost\", \"numofgen\", \"numofbrand\", \"generic_cost\", \"adjust_total_30d\", \"num_er\"]]\n",
        "y = trainDataset[[\"pdc_80_flag\"]]"
      ],
      "execution_count": null,
      "outputs": []
    },
    {
      "cell_type": "markdown",
      "metadata": {
        "id": "YWzZSIya6LaU",
        "colab_type": "text"
      },
      "source": [
        "### Test Dataset"
      ]
    },
    {
      "cell_type": "code",
      "metadata": {
        "id": "F8DdPikx6LaW",
        "colab_type": "code",
        "colab": {}
      },
      "source": [
        "testDataset = pd.read_csv('healthcareTest.csv')"
      ],
      "execution_count": null,
      "outputs": []
    },
    {
      "cell_type": "markdown",
      "metadata": {
        "id": "xjxgOQ-S6Lad",
        "colab_type": "text"
      },
      "source": [
        "The list of features extracted for **test set:**<br/>\n",
        "+ \"pre-rx-cost\"\n",
        "+ \"numofgen\"\n",
        "+ \"numofbrand\"\n",
        "+ \"generic-cost\"\n",
        "+ \"adjust-total-30d\"\n",
        "+ \"num-er\""
      ]
    },
    {
      "cell_type": "code",
      "metadata": {
        "id": "5XS9J49W6Lag",
        "colab_type": "code",
        "colab": {}
      },
      "source": [
        "#Feature Extraction\n",
        "X_t = testDataset[[\"pre_rx_cost\", \"numofgen\", \"numofbrand\", \"generic_cost\", \"adjust_total_30d\", \"num_er\"]]\n",
        "y_t = testDataset[[\"pdc_80_flag\"]]"
      ],
      "execution_count": null,
      "outputs": []
    },
    {
      "cell_type": "markdown",
      "metadata": {
        "id": "8x16MY_F6Lao",
        "colab_type": "text"
      },
      "source": [
        "### Feature Scaling - Linear Normalization"
      ]
    },
    {
      "cell_type": "code",
      "metadata": {
        "id": "ASJ6YseY6Laq",
        "colab_type": "code",
        "colab": {}
      },
      "source": [
        "#Scaling Train Set\n",
        "X_train = (X-X.min())/(X.max()-X.min())\n",
        "\n",
        "#Scaling Test Set\n",
        "X_test = (X_t-X.min())/(X.max()-X.min())"
      ],
      "execution_count": null,
      "outputs": []
    },
    {
      "cell_type": "markdown",
      "metadata": {
        "id": "Fw5JEuAp6Lay",
        "colab_type": "text"
      },
      "source": [
        "<a id='Problem1'> </a>\n",
        "## Problem 1"
      ]
    },
    {
      "cell_type": "markdown",
      "metadata": {
        "id": "6jh-bTpN6Laz",
        "colab_type": "text"
      },
      "source": [
        "<a id='PPart1'> </a>\n",
        "### Part 1"
      ]
    },
    {
      "cell_type": "markdown",
      "metadata": {
        "id": "gI5jZoeg6La1",
        "colab_type": "text"
      },
      "source": [
        "### Bult in KNN function implementation"
      ]
    },
    {
      "cell_type": "code",
      "metadata": {
        "id": "iHKgp8Rv6La3",
        "colab_type": "code",
        "colab": {}
      },
      "source": [
        "# Fitting K-NN to the Training set\n",
        "from sklearn.neighbors import KNeighborsClassifier\n",
        "from sklearn.metrics import confusion_matrix\n",
        "from sklearn import metrics\n",
        "from prettytable import PrettyTable\n",
        "\n",
        "#List to store accuracy\n",
        "acc = []\n",
        "\n",
        "#List to store neighbours\n",
        "neighbours = []\n",
        "\n",
        "#Table to show neighbours and accuracy\n",
        "accTable = PrettyTable()\n",
        "accTable.field_names = [\"k\",\"accuracy\"]\n",
        "\n",
        "#Running knn for nearest neighbour 75 to 107 with a step size of 2\n",
        "for k in range(75,107,2):\n",
        "    \n",
        "    #Creating classifier\n",
        "    classifier = KNeighborsClassifier(n_neighbors = k, metric = 'euclidean', p = 2)\n",
        "    classifier.fit(X_train, y.values.ravel())\n",
        "    \n",
        "    #Predict results\n",
        "    y_pred = classifier.predict(X_test)\n",
        "    \n",
        "    #Calculating accuracy\n",
        "    accuracy = metrics.accuracy_score(y_t,y_pred)\n",
        "    \n",
        "    #Adding rows to the table\n",
        "    accTable.add_row([k,accuracy*100])\n",
        "    \n",
        "    #Appending lists of neighbours and accuracy\n",
        "    neighbours.append(k)\n",
        "    acc.append(accuracy*100)"
      ],
      "execution_count": null,
      "outputs": []
    },
    {
      "cell_type": "markdown",
      "metadata": {
        "id": "tyj1BXda6La_",
        "colab_type": "text"
      },
      "source": [
        "NOTE: Using **y.values.ravel()** to suppress the excessive warnings. \n",
        " + **.values** will give the values in an array. (shape: (n,1)\n",
        " + **.ravel** will convert that array shape to (n, )"
      ]
    },
    {
      "cell_type": "markdown",
      "metadata": {
        "id": "aMZjzED26LbB",
        "colab_type": "text"
      },
      "source": [
        "### Printing the table"
      ]
    },
    {
      "cell_type": "code",
      "metadata": {
        "id": "oyNsxOWx6LbC",
        "colab_type": "code",
        "colab": {},
        "outputId": "85af3b27-36bd-4459-c44c-2bcd8f9e78b6"
      },
      "source": [
        "print(accTable)"
      ],
      "execution_count": null,
      "outputs": [
        {
          "output_type": "stream",
          "text": [
            "+-----+-------------------+\n",
            "|  k  |      accuracy     |\n",
            "+-----+-------------------+\n",
            "|  75 | 66.86046511627907 |\n",
            "|  77 | 66.56976744186046 |\n",
            "|  79 | 66.86046511627907 |\n",
            "|  81 | 66.56976744186046 |\n",
            "|  83 | 66.27906976744185 |\n",
            "|  85 | 66.56976744186046 |\n",
            "|  87 | 66.56976744186046 |\n",
            "|  89 | 66.56976744186046 |\n",
            "|  91 | 66.56976744186046 |\n",
            "|  93 | 65.40697674418605 |\n",
            "|  95 | 65.98837209302324 |\n",
            "|  97 | 66.27906976744185 |\n",
            "|  99 | 66.86046511627907 |\n",
            "| 101 | 67.15116279069767 |\n",
            "| 103 | 67.73255813953489 |\n",
            "| 105 | 66.86046511627907 |\n",
            "+-----+-------------------+\n"
          ],
          "name": "stdout"
        }
      ]
    },
    {
      "cell_type": "markdown",
      "metadata": {
        "id": "SttAmcRv6LbL",
        "colab_type": "text"
      },
      "source": [
        "<a id='PPart2'> </a>\n",
        "### Part 2"
      ]
    },
    {
      "cell_type": "markdown",
      "metadata": {
        "id": "BKuhFn5i6LbM",
        "colab_type": "text"
      },
      "source": [
        "### Plotting Graph"
      ]
    },
    {
      "cell_type": "code",
      "metadata": {
        "id": "AVXaOH8L6LbR",
        "colab_type": "code",
        "colab": {},
        "outputId": "7103ea1a-fc8e-4b28-9935-94244723b2d4"
      },
      "source": [
        "#plotting a line graph\n",
        "plt.plot(neighbours, acc)\n",
        "# Labeling the X-axis \n",
        "plt.xlabel('Neighbours') \n",
        "# Labeling the Y-axis \n",
        "plt.ylabel('Accuracy') \n",
        "# Give a title to the graph\n",
        "plt.title('A Neighbours to Accuracy Line Plot - Problem 1') \n",
        "plt.show()"
      ],
      "execution_count": null,
      "outputs": [
        {
          "output_type": "display_data",
          "data": {
            "image/png": "[encoded data removed]",
            "text/plain": [
              "<Figure size 432x288 with 1 Axes>"
            ]
          },
          "metadata": {
            "tags": [],
            "needs_background": "light"
          }
        }
      ]
    },
    {
      "cell_type": "markdown",
      "metadata": {
        "id": "MTKFT5lK6LbZ",
        "colab_type": "text"
      },
      "source": [
        "The k with the value of 103 gives the best accuracy i.e 67.73255813953489"
      ]
    },
    {
      "cell_type": "markdown",
      "metadata": {
        "id": "WU2ULoxq6Lba",
        "colab_type": "text"
      },
      "source": [
        "<a id='Problem2'> </a>\n",
        "## Problem 2"
      ]
    },
    {
      "cell_type": "markdown",
      "metadata": {
        "id": "H0cuN4Ch6Lbb",
        "colab_type": "text"
      },
      "source": [
        "Reading in dataset for Problem 2 with new columns."
      ]
    },
    {
      "cell_type": "code",
      "metadata": {
        "id": "DDKe3cyb6Lbd",
        "colab_type": "code",
        "colab": {}
      },
      "source": [
        "#Reading in the train and test features\n",
        "X_P2 = trainDataset[[\"regionN\", \"pre_rx_cost\", \"numofgen\", \"numofbrand\", \"generic_cost\", \"adjust_total_30d\", \"num_er\",\"pdc_80_flag\"]]\n",
        "\n",
        "Y_P2 = testDataset[[\"regionN\", \"pre_rx_cost\", \"numofgen\", \"numofbrand\", \"generic_cost\", \"adjust_total_30d\", \"num_er\",\"pdc_80_flag\"]]"
      ],
      "execution_count": null,
      "outputs": []
    },
    {
      "cell_type": "markdown",
      "metadata": {
        "id": "zQZe-tIl6Lbj",
        "colab_type": "text"
      },
      "source": [
        "### Scaling Feautures"
      ]
    },
    {
      "cell_type": "markdown",
      "metadata": {
        "id": "ZSyeK5Vh6Lbk",
        "colab_type": "text"
      },
      "source": [
        "Before scaling the feautures i am removing the column \"regionN\" from the list as it is used in VDM and there's no need to scale them. After scaling them they will be joined back."
      ]
    },
    {
      "cell_type": "code",
      "metadata": {
        "id": "pEGzzGhZ6Lbm",
        "colab_type": "code",
        "colab": {}
      },
      "source": [
        "# Dropping regionN colmn for scaling rest of the feautures.\n",
        "X_temp = X_P2.drop([\"regionN\"], axis = 1)\n",
        "Y_temp = Y_P2.drop([\"regionN\"], axis = 1)"
      ],
      "execution_count": null,
      "outputs": []
    },
    {
      "cell_type": "code",
      "metadata": {
        "id": "34thI4T76Lbt",
        "colab_type": "code",
        "colab": {}
      },
      "source": [
        "#Scaling Train Set\n",
        "X_train = (X_temp-X_temp.min())/(X_temp.max()-X_temp.min())\n",
        "\n",
        "#Scaling Test Set\n",
        "X_test = (Y_temp-X_temp.min())/(X_temp.max()-X_temp.min())"
      ],
      "execution_count": null,
      "outputs": []
    },
    {
      "cell_type": "code",
      "metadata": {
        "id": "81HkzvvF6Lbz",
        "colab_type": "code",
        "colab": {}
      },
      "source": [
        "# Joining regionN column to train and test sets\n",
        "trainP2 = X_train.join(X_P2.loc[:,\"regionN\"])\n",
        "testP2 = X_test.join(Y_P2.loc[:,\"regionN\"])"
      ],
      "execution_count": null,
      "outputs": []
    },
    {
      "cell_type": "markdown",
      "metadata": {
        "id": "8XSU69846Lb7",
        "colab_type": "text"
      },
      "source": [
        "<a id='Part1'> </a>\n",
        "### Part 1"
      ]
    },
    {
      "cell_type": "markdown",
      "metadata": {
        "id": "lOecHzvb6Lb9",
        "colab_type": "text"
      },
      "source": [
        "### VDM - Conditional Probabilities"
      ]
    },
    {
      "cell_type": "code",
      "metadata": {
        "id": "fKnTqBn76Lb_",
        "colab_type": "code",
        "colab": {},
        "outputId": "29854fbb-2f6c-4f2b-9116-6857e6cb4cb9"
      },
      "source": [
        "# create a table to show what we need\n",
        "vdm = PrettyTable()\n",
        "vdm.field_names = [\"Region\", \"Class_1: 1\", \"Class_2: 0\"]\n",
        "vdm.add_row([1,\"P(1|1)\",\"P(0|1)\"])\n",
        "vdm.add_row([2,\"P(1|2)\",\"P(0|2)\"])\n",
        "vdm.add_row([3,\"P(1|3)\",\"P(0|3)\"])\n",
        "vdm.add_row([4,\"P(1|4)\",\"P(0|4)\"])\n",
        "print(vdm)"
      ],
      "execution_count": null,
      "outputs": [
        {
          "output_type": "stream",
          "text": [
            "+--------+------------+------------+\n",
            "| Region | Class_1: 1 | Class_2: 0 |\n",
            "+--------+------------+------------+\n",
            "|   1    |   P(1|1)   |   P(0|1)   |\n",
            "|   2    |   P(1|2)   |   P(0|2)   |\n",
            "|   3    |   P(1|3)   |   P(0|3)   |\n",
            "|   4    |   P(1|4)   |   P(0|4)   |\n",
            "+--------+------------+------------+\n"
          ],
          "name": "stdout"
        }
      ]
    },
    {
      "cell_type": "code",
      "metadata": {
        "id": "8Nvbaxq46LcG",
        "colab_type": "code",
        "colab": {}
      },
      "source": [
        "# create variable to count the numer for each category\n",
        "region1 = 0\n",
        "result1 = 0\n",
        "region2 = 0\n",
        "result2 = 0\n",
        "region3 = 0\n",
        "result3 = 0\n",
        "region4 = 0\n",
        "result4 = 0\n",
        "# use for loop to iterate in dataset\n",
        "for i in range(len(trainP2)):\n",
        "    # if the region is 1\n",
        "    if trainP2.loc[i, \"regionN\"] == 1:\n",
        "        # region1 will add one\n",
        "        region1+=1\n",
        "        # if the pdc result is one\n",
        "        if trainP2.loc[i, \"pdc_80_flag\"] == 1:\n",
        "            # result1 will add one\n",
        "            result1+=1\n",
        "    if trainP2.loc[i, \"regionN\"] == 2:\n",
        "        region2+=1\n",
        "        if trainP2.loc[i, \"pdc_80_flag\"] == 1:\n",
        "            result2+=1\n",
        "    if trainP2.loc[i, \"regionN\"] == 3:\n",
        "        region3+=1\n",
        "        if trainP2.loc[i, \"pdc_80_flag\"] == 1:\n",
        "            result3+=1\n",
        "    if trainP2.loc[i, \"regionN\"] == 4:\n",
        "        region4+=1\n",
        "        if trainP2.loc[i, \"pdc_80_flag\"] == 1:\n",
        "            result4+=1\n",
        "# calculate the probability\n",
        "p11 = result1/region1\n",
        "p01 = 1-p11\n",
        "p12 = result2/region2\n",
        "p02 = 1-p12\n",
        "p13 = result3/region3\n",
        "p03 = 1-p13\n",
        "p14 = result4/region4\n",
        "p04 = 1-p14"
      ],
      "execution_count": null,
      "outputs": []
    },
    {
      "cell_type": "code",
      "metadata": {
        "id": "7iGJAcFH6LcM",
        "colab_type": "code",
        "colab": {},
        "outputId": "c755a8e5-0d39-46e7-8490-b5f6f2dd40ea"
      },
      "source": [
        "# create pretty table for the result of probability for each category\n",
        "vdmr = PrettyTable()\n",
        "vdmr.field_names = [\"Region\", \"Class_1: 1\", \"Class_2: 0\"]\n",
        "vdmr.add_row([1, p11, p01])\n",
        "vdmr.add_row([2, p12, p02])\n",
        "vdmr.add_row([3, p13, p03])\n",
        "vdmr.add_row([4, p14, p04])\n",
        "print(vdmr)"
      ],
      "execution_count": null,
      "outputs": [
        {
          "output_type": "stream",
          "text": [
            "+--------+---------------------+---------------------+\n",
            "| Region |      Class_1: 1     |      Class_2: 0     |\n",
            "+--------+---------------------+---------------------+\n",
            "|   1    |  0.5045045045045045 | 0.49549549549549554 |\n",
            "|   2    |  0.4314214463840399 |  0.5685785536159601 |\n",
            "|   3    | 0.35400516795865633 |  0.6459948320413437 |\n",
            "|   4    | 0.42391304347826086 |  0.5760869565217391 |\n",
            "+--------+---------------------+---------------------+\n"
          ],
          "name": "stdout"
        }
      ]
    },
    {
      "cell_type": "markdown",
      "metadata": {
        "id": "lgBrKO6y6LcS",
        "colab_type": "text"
      },
      "source": [
        "<a id='Part2'> </a>\n",
        "### Part 2"
      ]
    },
    {
      "cell_type": "markdown",
      "metadata": {
        "id": "7zbso-806LcT",
        "colab_type": "text"
      },
      "source": [
        "### Calcluting distances"
      ]
    },
    {
      "cell_type": "code",
      "metadata": {
        "id": "I7pcF7SC6LcU",
        "colab_type": "code",
        "colab": {},
        "outputId": "bbe88346-d6c4-40d2-a104-9e1e929715f3"
      },
      "source": [
        "# distance between 1 Northeast and 2 Midwest\n",
        "d12 = (p11 - p12)**2 + (p01 - p02)**2\n",
        "# distance between 1 Northeast and 3 South\n",
        "d13 = (p11 - p13)**2 + (p01 - p03)**2\n",
        "# distance between 1 Northeast and 4 West\n",
        "d14 = (p11 - p14)**2 + (p01 - p04)**2\n",
        "\n",
        "# distance between 2 Midwest and 1 Northeast\n",
        "d21 = (p12 - p11)**2 + (p02 - p01)**2\n",
        "# distance between 2 Midwest and 3 South\n",
        "d23 = (p12 - p13)**2 + (p02 - p03)**2\n",
        "# distance between 2 Midwest and 4 West\n",
        "d24 = (p12 - p14)**2 + (p02 - p04)**2\n",
        "\n",
        "# distance between 3 South and 1 Northeast\n",
        "d31 = (p13 - p11)**2 + (p03 - p01)**2\n",
        "# distance between 3 South and 2 Midwest\n",
        "d32 = (p13 - p12)**2 + (p03 - p02)**2\n",
        "# distance between 3 South and 4 West\n",
        "d34 = (p13 - p14)**2 + (p03 - p04)**2\n",
        "\n",
        "# distance between 4 West and 1 Northeast\n",
        "d41 = (p14 - p11)**2 + (p04 - p01)**2\n",
        "# distance between 4 West and 2 Midwest\n",
        "d42 = (p14 - p12)**2 + (p04 - p02)**2\n",
        "# distance between 4 West and 3 South\n",
        "d43 = (p14 - p13)**2 + (p04 - p03)**2\n",
        "\n",
        "# create distance table\n",
        "distanceTable = PrettyTable()\n",
        "distanceTable.field_names = [\"\",\"1 Northeast\", \"2 Midwest\", \"3 South\", \"4 West\"]\n",
        "distanceTable.add_row([\"1 Northeast\", 0, d12, d13, d14])\n",
        "distanceTable.add_row([\"2 Midwest\", d21, 0, d23, d24])\n",
        "distanceTable.add_row([\"3 South\", d31, d32, 0, d34])\n",
        "distanceTable.add_row([\"4 West\", d41, d42, d43, 0])\n",
        "print(distanceTable)"
      ],
      "execution_count": null,
      "outputs": [
        {
          "output_type": "stream",
          "text": [
            "+-------------+----------------------+------------------------+----------------------+------------------------+\n",
            "|             |     1 Northeast      |       2 Midwest        |       3 South        |         4 West         |\n",
            "+-------------+----------------------+------------------------+----------------------+------------------------+\n",
            "| 1 Northeast |          0           |  0.010682266768478402  | 0.04530010060148092  |  0.01298996718068908   |\n",
            "|  2 Midwest  | 0.010682266768478402 |           0            | 0.011986560330473019 | 0.00011275222839102203 |\n",
            "|   3 South   | 0.04530010060148092  |  0.011986560330473019  |          0           |  0.009774222119329046  |\n",
            "|    4 West   | 0.01298996718068908  | 0.00011275222839102203 | 0.009774222119329046 |           0            |\n",
            "+-------------+----------------------+------------------------+----------------------+------------------------+\n"
          ],
          "name": "stdout"
        }
      ]
    },
    {
      "cell_type": "markdown",
      "metadata": {
        "id": "uCLYHEzf6Lcc",
        "colab_type": "text"
      },
      "source": [
        "<a id='Part3'> </a>\n",
        "### Part 3"
      ]
    },
    {
      "cell_type": "markdown",
      "metadata": {
        "id": "gKzBDQks6Lcd",
        "colab_type": "text"
      },
      "source": [
        "### KNN Implementation"
      ]
    },
    {
      "cell_type": "code",
      "metadata": {
        "id": "cevdvz986Lce",
        "colab_type": "code",
        "colab": {}
      },
      "source": [
        "#Droping out training label\n",
        "trainP2 = trainP2.drop([\"pdc_80_flag\"], axis = 1)\n",
        "testP2 = testP2.drop([\"pdc_80_flag\"], axis = 1)"
      ],
      "execution_count": null,
      "outputs": []
    },
    {
      "cell_type": "code",
      "metadata": {
        "id": "JLwDN5T66Lck",
        "colab_type": "code",
        "colab": {}
      },
      "source": [
        "#Converting to numpy array\n",
        "trainP2 = trainP2.values\n",
        "testP2 = testP2.values\n",
        "y = y.values\n",
        "y_t = y_t.values"
      ],
      "execution_count": null,
      "outputs": []
    },
    {
      "cell_type": "markdown",
      "metadata": {
        "id": "uLu732K06Lct",
        "colab_type": "text"
      },
      "source": [
        "### Euclidiean distance function"
      ]
    },
    {
      "cell_type": "code",
      "metadata": {
        "id": "J6m0t4OO6Lcv",
        "colab_type": "code",
        "colab": {}
      },
      "source": [
        "import math\n",
        "\n",
        "def distFunc(a,b):\n",
        "    dis = 0\n",
        "    for i in range(6):\n",
        "        dis += (a[i] - b[i])**2\n",
        "    return dis"
      ],
      "execution_count": null,
      "outputs": []
    },
    {
      "cell_type": "code",
      "metadata": {
        "id": "bZwIAfmP6Lc4",
        "colab_type": "code",
        "colab": {}
      },
      "source": [
        "import math  \n",
        "\n",
        "def EuclideanDistance(x,y):\n",
        "    \n",
        "    # All matching regions handled\n",
        "    # Northeast - Region 1\n",
        "    if x[6] == 1 and y[6] == 1:\n",
        "        dist = math.sqrt(distFunc(x,y) + 0 )\n",
        "    # Midwest - Region 2\n",
        "    elif x[6] == 2 and y[6] == 2:\n",
        "        dist = math.sqrt(distFunc(x,y) + 0 )\n",
        "    # South - Region 3\n",
        "    elif x[6] == 3 and y[6] == 3:\n",
        "        dist = math.sqrt(distFunc(x,y) + 0 )\n",
        "    # West - Region 4    \n",
        "    elif x[6] == 4 and y[6] == 4:\n",
        "        dist = math.sqrt(distFunc(x,y) + 0 )\n",
        "    # Regions with Region 1 and Region 2 \n",
        "    elif x[6] == 1 and y[6] == 2:\n",
        "        dist = math.sqrt(distFunc(x,y) + d12 )\n",
        "    # Regions with Region 1 and Region 3 \n",
        "    elif x[6] == 1 and y[6] == 3:\n",
        "        dist = math.sqrt(distFunc(x,y) + d13 )\n",
        "    # Regions with Region 1 and Region 4 \n",
        "    elif x[6] == 1 and y[6] == 4:\n",
        "        dist = math.sqrt(distFunc(x,y) + d14 )\n",
        "    # Regions with Region 2 and Region 1 \n",
        "    elif x[6] == 2 and y[6] == 1:\n",
        "        dist = math.sqrt(distFunc(x,y) + d21 )\n",
        "    # Regions with Region 2 and Region 3 \n",
        "    elif x[6] == 2 and y[6] == 3:\n",
        "        dist = math.sqrt(distFunc(x,y) + d23 )\n",
        "    # Regions with Region 2 and Region 4 \n",
        "    elif x[6] == 2 and y[6] == 4:\n",
        "        dist = math.sqrt(distFunc(x,y) + d24 )\n",
        "    # Regions with Region 3 and Region 1 \n",
        "    elif x[6] == 3 and y[6] == 1:\n",
        "        dist = math.sqrt(distFunc(x,y) + d31 )\n",
        "    # Regions with Region 3 and Region 2 \n",
        "    elif x[6] == 3 and y[6] == 2:\n",
        "        dist = math.sqrt(distFunc(x,y) + d32 )\n",
        "    # Regions with Region 3 and Region 4 \n",
        "    elif x[6] == 3 and y[6] == 4:\n",
        "        dist = math.sqrt(distFunc(x,y) + d34 )\n",
        "    # Regions with Region 4 and Region 1 \n",
        "    elif x[6] == 4 and y[6] == 1:\n",
        "        dist = math.sqrt(distFunc(x,y) + d41 )\n",
        "    # Regions with Region 4 and Region 2 \n",
        "    elif x[6] == 4 and y[6] == 2:\n",
        "        dist = math.sqrt(distFunc(x,y) + d42 )\n",
        "    # Regions with Region 4 and Region 3 \n",
        "    elif x[6] == 4 and y[6] == 3:\n",
        "        dist = math.sqrt(distFunc(x,y) + d43 )\n",
        "    return dist"
      ],
      "execution_count": null,
      "outputs": []
    },
    {
      "cell_type": "markdown",
      "metadata": {
        "id": "WdeTq8LP6Lc-",
        "colab_type": "text"
      },
      "source": [
        "### KNN Implementation"
      ]
    },
    {
      "cell_type": "code",
      "metadata": {
        "id": "t1PAxx3I6Lc_",
        "colab_type": "code",
        "colab": {}
      },
      "source": [
        "'''\n",
        "This is a VDM KNN implementation and it takes in the following paramenters\n",
        "    1. train : training set \n",
        "    2. train_labels : training set labels\n",
        "    3. test : test point\n",
        "    4. k : A numeric value can be passed here to select the number of nearest neighbours to use.                     \n",
        "'''\n",
        "\n",
        "def Knn(train, train_labels, test, k):\n",
        "    \n",
        "    # This will store the k nearest neighbours in it along with their training labels \n",
        "    neighbours=[]\n",
        "\n",
        "    # This loops through the training set points and calculates the distance in this case euclidean distance \n",
        "    # between the test point and all the training set points. Then it appends it to neighbours list along \n",
        "    # with the training set labels.\n",
        "    \n",
        "    for trainPt in range(len(train)):\n",
        "        euclidian_dist = EuclideanDistance(train[trainPt], test)\n",
        "        neighbours.append((euclidian_dist,train_labels[trainPt]))\n",
        "        \n",
        "    # Now the neighbours list is sorted and only the top k neighbours are left behind for voting.\n",
        "    neighbours = sorted(neighbours)[:k]\n",
        "\n",
        "    # These variables will be used to store the cummilative weighted votes for each class/label.\n",
        "    VotesClassA = 0    # This variable will store votes if the label is \"-1\"\n",
        "    VotesClassB = 0    # This variable will store votes if the label is \"1\"\n",
        "    \n",
        "    # We will loop through the neighbours and check if they match a certain class The votes will be added and the \n",
        "    # label with higher value will be assigned to the test point.\n",
        "    for n in neighbours: \n",
        "        if n[1] == 0: \n",
        "            VotesClassA += 1 \n",
        "              \n",
        "        elif n[1] == 1:  \n",
        "            VotesClassB += 1 \n",
        "              \n",
        "    \n",
        "    if VotesClassA>VotesClassB:\n",
        "        return 0\n",
        "    else:\n",
        "        return 1"
      ],
      "execution_count": null,
      "outputs": []
    },
    {
      "cell_type": "markdown",
      "metadata": {
        "id": "D6elfQWD6LdF",
        "colab_type": "text"
      },
      "source": [
        "### Prediction of Labels of test points"
      ]
    },
    {
      "cell_type": "code",
      "metadata": {
        "id": "GY7BfQ_X6LdG",
        "colab_type": "code",
        "colab": {}
      },
      "source": [
        "#Table to show neighbours and accuracy\n",
        "accTable2 = PrettyTable()\n",
        "accTable2.field_names = [\"k\",\"accuracy\"]\n",
        "\n",
        "acc2 = []\n",
        "neighbours2 = []\n",
        "\n",
        "for k in range(75,107,2):\n",
        "\n",
        "    predicted_Labels = []\n",
        "\n",
        "    for i in range(len(testP2)):\n",
        "        predicted_Labels.append(Knn(trainP2, y, testP2[i], k))\n",
        "        \n",
        "    #Calculating accuracy\n",
        "    accuracy = metrics.accuracy_score(y_t,predicted_Labels)\n",
        "\n",
        "    #Adding rows to the table\n",
        "    accTable2.add_row([k,accuracy*100])\n",
        "\n",
        "    #Appending lists of neighbours and accuracy\n",
        "    neighbours2.append(k)\n",
        "    acc2.append(accuracy*100)"
      ],
      "execution_count": null,
      "outputs": []
    },
    {
      "cell_type": "code",
      "metadata": {
        "id": "xJKl6otM6LdL",
        "colab_type": "code",
        "colab": {},
        "outputId": "610ca7ba-c2d5-435c-f9e5-434e7f2998b0"
      },
      "source": [
        "print(accTable2)"
      ],
      "execution_count": null,
      "outputs": [
        {
          "output_type": "stream",
          "text": [
            "+-----+--------------------+\n",
            "|  k  |      accuracy      |\n",
            "+-----+--------------------+\n",
            "|  75 | 65.98837209302324  |\n",
            "|  77 | 64.82558139534885  |\n",
            "|  79 | 64.82558139534885  |\n",
            "|  81 | 65.11627906976744  |\n",
            "|  83 | 64.82558139534885  |\n",
            "|  85 | 65.11627906976744  |\n",
            "|  87 | 63.372093023255815 |\n",
            "|  89 | 64.53488372093024  |\n",
            "|  91 | 64.53488372093024  |\n",
            "|  93 | 64.82558139534885  |\n",
            "|  95 | 63.95348837209303  |\n",
            "|  97 | 63.662790697674424 |\n",
            "|  99 | 63.372093023255815 |\n",
            "| 101 | 63.08139534883721  |\n",
            "| 103 | 64.24418604651163  |\n",
            "| 105 | 65.40697674418605  |\n",
            "+-----+--------------------+\n"
          ],
          "name": "stdout"
        }
      ]
    },
    {
      "cell_type": "markdown",
      "metadata": {
        "id": "ylUfFFat6LdR",
        "colab_type": "text"
      },
      "source": [
        "The k value with the highest accuracy is 75 with the accuracy value of 65.98837209302324 percent."
      ]
    },
    {
      "cell_type": "markdown",
      "metadata": {
        "id": "_fnkpyqJ6LdS",
        "colab_type": "text"
      },
      "source": [
        "### Mean Accuracy Comparison"
      ]
    },
    {
      "cell_type": "code",
      "metadata": {
        "id": "wAzzmhg26LdT",
        "colab_type": "code",
        "colab": {}
      },
      "source": [
        "def Mean(List): \n",
        "    return sum(List) / len(List) "
      ],
      "execution_count": null,
      "outputs": []
    },
    {
      "cell_type": "code",
      "metadata": {
        "id": "qaFoirpm6LdZ",
        "colab_type": "code",
        "colab": {}
      },
      "source": [
        "#Model 1 Mean Accuracy\n",
        "prob1MeanAcc = Mean(acc)"
      ],
      "execution_count": null,
      "outputs": []
    },
    {
      "cell_type": "code",
      "metadata": {
        "id": "Vf1PGbOh6Ldf",
        "colab_type": "code",
        "colab": {}
      },
      "source": [
        "#Model 2 Mean Accuracy\n",
        "prob2MeanAcc = Mean(acc2)"
      ],
      "execution_count": null,
      "outputs": []
    },
    {
      "cell_type": "code",
      "metadata": {
        "id": "WK1-lULn6Ldl",
        "colab_type": "code",
        "colab": {},
        "outputId": "260093bc-0a01-4ee1-a399-0c7ea8dfa165"
      },
      "source": [
        "if prob1MeanAcc > prob2MeanAcc:\n",
        "    print(\"The first problem model has higher mean accuracy which means accuracy has decreased.\")\n",
        "else:\n",
        "    print(\"The second problem model has higher mean accuracy which means accuracy has increased.\")"
      ],
      "execution_count": null,
      "outputs": [
        {
          "output_type": "stream",
          "text": [
            "The first problem model has higher mean accuracy which means accuracy has decreased.\n"
          ],
          "name": "stdout"
        }
      ]
    },
    {
      "cell_type": "markdown",
      "metadata": {
        "id": "nMJ-jdGF6Ldv",
        "colab_type": "text"
      },
      "source": [
        "<a id='Part4'> </a>\n",
        "### Part 4"
      ]
    },
    {
      "cell_type": "markdown",
      "metadata": {
        "id": "gn5jm2yd6Ldw",
        "colab_type": "text"
      },
      "source": [
        "### Plotting Graph"
      ]
    },
    {
      "cell_type": "code",
      "metadata": {
        "id": "We_rY1Ge6Ldx",
        "colab_type": "code",
        "colab": {},
        "outputId": "ed915e89-3d44-4c2f-f40a-914b8c125e42"
      },
      "source": [
        "#plotting a line graph\n",
        "plt.plot(neighbours2, acc2)\n",
        "# Labeling the X-axis \n",
        "plt.xlabel('Neighbours') \n",
        "# Labeling the Y-axis \n",
        "plt.ylabel('Accuracy') \n",
        "# Give a title to the graph\n",
        "plt.title('A Neighbours to Accuracy Line Plot - Problem 2') \n",
        "plt.show()"
      ],
      "execution_count": null,
      "outputs": [
        {
          "output_type": "display_data",
          "data": {
            "image/png": "[encoded data removed]",
            "text/plain": [
              "<Figure size 432x288 with 1 Axes>"
            ]
          },
          "metadata": {
            "tags": [],
            "needs_background": "light"
          }
        }
      ]
    },
    {
      "cell_type": "markdown",
      "metadata": {
        "id": "h5fg-YUm6Ld7",
        "colab_type": "text"
      },
      "source": [
        "The k value with the highest accuracy is 75 with the accuracy value of 65.98837209302324 percent."
      ]
    },
    {
      "cell_type": "markdown",
      "metadata": {
        "id": "D6G-V9pz6Ld8",
        "colab_type": "text"
      },
      "source": [
        "<a id='Part5'> </a>\n",
        "### Part 5"
      ]
    },
    {
      "cell_type": "code",
      "metadata": {
        "id": "TocM9EB86Ld-",
        "colab_type": "code",
        "colab": {}
      },
      "source": [
        "#Table to show neighbours and accuracy\n",
        "accTable3 = PrettyTable()\n",
        "accTable3.field_names = [\"k\",\"100th test point predicted val\", \"200th test point predicted val\", \"300th test point predicted val\"]\n",
        "\n",
        "acc3 = []\n",
        "neighbours3 = []\n",
        "\n",
        "for k in range(75,107,2):\n",
        "\n",
        "    predicted_Labels = []\n",
        "\n",
        "    # Setting the values as 99, 199 and 299 to find 100th, 200th and 300th \n",
        "    # test point value because numpy array indexes start at 0.\n",
        "    \n",
        "    predicted_Labels.append(Knn(trainP2, y, testP2[99], k))\n",
        "    predicted_Labels.append(Knn(trainP2, y, testP2[199], k))\n",
        "    predicted_Labels.append(Knn(trainP2, y, testP2[299], k))\n",
        "\n",
        "    #Adding rows to the table\n",
        "    accTable3.add_row([k,predicted_Labels[0],predicted_Labels[1],predicted_Labels[2]])"
      ],
      "execution_count": null,
      "outputs": []
    },
    {
      "cell_type": "code",
      "metadata": {
        "id": "QUH-RxRp6LeE",
        "colab_type": "code",
        "colab": {},
        "outputId": "26ce163a-6d5b-4c88-a4ed-7fe22936db58"
      },
      "source": [
        "print(accTable3)"
      ],
      "execution_count": null,
      "outputs": [
        {
          "output_type": "stream",
          "text": [
            "+-----+--------------------------------+--------------------------------+--------------------------------+\n",
            "|  k  | 100th test point predicted val | 200th test point predicted val | 300th test point predicted val |\n",
            "+-----+--------------------------------+--------------------------------+--------------------------------+\n",
            "|  75 |               0                |               0                |               0                |\n",
            "|  77 |               0                |               0                |               0                |\n",
            "|  79 |               0                |               0                |               0                |\n",
            "|  81 |               0                |               0                |               0                |\n",
            "|  83 |               0                |               0                |               0                |\n",
            "|  85 |               0                |               0                |               0                |\n",
            "|  87 |               0                |               0                |               0                |\n",
            "|  89 |               0                |               0                |               0                |\n",
            "|  91 |               0                |               0                |               0                |\n",
            "|  93 |               0                |               0                |               0                |\n",
            "|  95 |               0                |               0                |               0                |\n",
            "|  97 |               0                |               0                |               0                |\n",
            "|  99 |               0                |               0                |               0                |\n",
            "| 101 |               0                |               0                |               0                |\n",
            "| 103 |               0                |               0                |               0                |\n",
            "| 105 |               0                |               0                |               0                |\n",
            "+-----+--------------------------------+--------------------------------+--------------------------------+\n"
          ],
          "name": "stdout"
        }
      ]
    }
  ]
}